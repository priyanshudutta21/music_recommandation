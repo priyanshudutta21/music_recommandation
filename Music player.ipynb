{
 "cells": [
  {
   "cell_type": "code",
   "execution_count": 43,
   "id": "7c1e8d13",
   "metadata": {},
   "outputs": [
    {
     "data": {
      "text/plain": [
       "array(['HipHop', 'Dance'], dtype=object)"
      ]
     },
     "execution_count": 43,
     "metadata": {},
     "output_type": "execute_result"
    }
   ],
   "source": [
    "import pandas as pd\n",
    "from sklearn.tree import DecisionTreeClassifier\n",
    "#from sklearn.model_selection import train_test_split \n",
    "#from sklearn.metrics import accuracy_score\n",
    "import joblib as jb\n",
    "\n",
    "# music_data=pd.read_csv('music.csv')\n",
    "# X= music_data.drop(columns=['genre'])\n",
    "# y= music_data['genre']\n",
    "# model= DecisionTreeClassifier()\n",
    "# model.fit(X,y)\n",
    "# predictions= model.predict([[21,1],[22,0]])\n",
    "#jb.dump(model,'music-recommander.jb')\n",
    "#X_train,X_test,y_train,y_test=train_test_split(X,y,test_size=0.3)\n",
    "#model.fit(X_train,y_train)\n",
    "#predictions= model.predict(X_test)\n",
    "#score = accuracy_score(y_test,predictions)\n",
    "model=jb.load('music-recommander.jb')\n",
    "predictions= model.predict([[21,1],[22,0]])\n",
    "predictions"
   ]
  },
  {
   "cell_type": "code",
   "execution_count": null,
   "id": "871e9695",
   "metadata": {},
   "outputs": [],
   "source": []
  },
  {
   "cell_type": "code",
   "execution_count": null,
   "id": "9a41a836",
   "metadata": {},
   "outputs": [],
   "source": []
  },
  {
   "cell_type": "code",
   "execution_count": null,
   "id": "26bbd185",
   "metadata": {},
   "outputs": [],
   "source": []
  },
  {
   "cell_type": "code",
   "execution_count": null,
   "id": "c6fedf51",
   "metadata": {},
   "outputs": [],
   "source": []
  },
  {
   "cell_type": "code",
   "execution_count": null,
   "id": "cdabb462",
   "metadata": {},
   "outputs": [],
   "source": []
  },
  {
   "cell_type": "code",
   "execution_count": null,
   "id": "4874054a",
   "metadata": {},
   "outputs": [],
   "source": []
  },
  {
   "cell_type": "code",
   "execution_count": null,
   "id": "427497f7",
   "metadata": {},
   "outputs": [],
   "source": []
  }
 ],
 "metadata": {
  "kernelspec": {
   "display_name": "Python 3 (ipykernel)",
   "language": "python",
   "name": "python3"
  },
  "language_info": {
   "codemirror_mode": {
    "name": "ipython",
    "version": 3
   },
   "file_extension": ".py",
   "mimetype": "text/x-python",
   "name": "python",
   "nbconvert_exporter": "python",
   "pygments_lexer": "ipython3",
   "version": "3.9.7"
  }
 },
 "nbformat": 4,
 "nbformat_minor": 5
}
